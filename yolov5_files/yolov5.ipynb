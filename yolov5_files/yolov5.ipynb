{
 "cells": [
  {
   "cell_type": "markdown",
   "metadata": {},
   "source": [
    "# Create Dataset"
   ]
  },
  {
   "cell_type": "code",
   "execution_count": 2,
   "metadata": {
    "vscode": {
     "languageId": "python"
    }
   },
   "outputs": [
    {
     "name": "stdout",
     "output_type": "stream",
     "text": [
      "Cloning into 'convert2Yolo'...\n",
      "remote: Enumerating objects: 215, done.\u001b[K\n",
      "remote: Counting objects: 100% (14/14), done.\u001b[K\n",
      "remote: Compressing objects: 100% (10/10), done.\u001b[K\n",
      "remote: Total 215 (delta 4), reused 6 (delta 4), pack-reused 201\u001b[K\n",
      "Receiving objects: 100% (215/215), 1002.72 KiB | 30.38 MiB/s, done.\n",
      "Resolving deltas: 100% (89/89), done.\n"
     ]
    }
   ],
   "source": [
    "!git clone https://github.com/ssaru/convert2Yolo"
   ]
  },
  {
   "cell_type": "code",
   "execution_count": null,
   "metadata": {
    "vscode": {
     "languageId": "python"
    }
   },
   "outputs": [],
   "source": [
    "%cd convert2Yolo"
   ]
  },
  {
   "cell_type": "code",
   "execution_count": null,
   "metadata": {
    "vscode": {
     "languageId": "python"
    }
   },
   "outputs": [],
   "source": [
    "!pip install -r requirements.txt"
   ]
  },
  {
   "cell_type": "code",
   "execution_count": 12,
   "metadata": {
    "vscode": {
     "languageId": "python"
    }
   },
   "outputs": [
    {
     "name": "stdout",
     "output_type": "stream",
     "text": [
      "\n",
      "COCO Parsing:  |████████████████████████████████████████| 100.0% (23144/23144)  Complete\n",
      "\n",
      "\n",
      "YOLO Generating:|████████████████████████████████████████| 100.0% (4883/4883)  Complete\n",
      "\n",
      "\n",
      "YOLO Saving:   |████████████████████████████████████████| 100.0% (4883/4883)  Complete\n",
      "\n"
     ]
    }
   ],
   "source": [
    "!python example.py --datasets COCO --img_path ../../dataset --label ../../dataset/train.json --convert_output_path ../../dataset --img_type \".jpg\" --manifest_path ../../dataset --cls_list_file ../voc.names"
   ]
  },
  {
   "cell_type": "markdown",
   "metadata": {},
   "source": [
    "### Duplicate manifest.txt and replace .jpg with .txt\n",
    "- manifest file with .jpg paths = images.txt\n",
    "- manifest file with .txt paths = labels.txt"
   ]
  },
  {
   "cell_type": "code",
   "execution_count": 17,
   "metadata": {
    "vscode": {
     "languageId": "python"
    }
   },
   "outputs": [],
   "source": [
    "# copy image files and labels files to another directory to use in YOLO V5 model\n",
    "import shutil\n",
    "\n",
    "manifest_path_images = '../manifest_images.txt'\n",
    "manifest_path_labels = '../manifest_labels.txt'\n",
    "\n",
    "file1 = open(manifest_path_images, 'r')\n",
    "lines1 = file1.readlines()\n",
    "for l in lines1:\n",
    "    shutil.copy(l.strip(), '../datasetyolo5/images/train')\n",
    "\n",
    "file2 = open(manifest_path_labels, 'r')\n",
    "lines2 = file2.readlines()\n",
    "for l in lines2:\n",
    "    shutil.copy(l.strip(), '../datasetyolo5/labels/train')"
   ]
  },
  {
   "cell_type": "markdown",
   "metadata": {},
   "source": [
    "# YOLO V5"
   ]
  },
  {
   "cell_type": "code",
   "execution_count": 19,
   "metadata": {
    "vscode": {
     "languageId": "python"
    }
   },
   "outputs": [
    {
     "name": "stdout",
     "output_type": "stream",
     "text": [
      "/opt/ml/detection\n"
     ]
    }
   ],
   "source": [
    "%cd /opt/ml/detection"
   ]
  },
  {
   "cell_type": "code",
   "execution_count": 2,
   "metadata": {
    "vscode": {
     "languageId": "python"
    }
   },
   "outputs": [
    {
     "name": "stdout",
     "output_type": "stream",
     "text": [
      "Cloning into 'yolov5'...\n",
      "remote: Enumerating objects: 12644, done.\u001b[K\n",
      "remote: Total 12644 (delta 0), reused 0 (delta 0), pack-reused 12644\u001b[K\n",
      "Receiving objects: 100% (12644/12644), 11.62 MiB | 11.35 MiB/s, done.\n",
      "Resolving deltas: 100% (8817/8817), done.\n"
     ]
    }
   ],
   "source": [
    "!git clone https://github.com/ultralytics/yolov5.git"
   ]
  },
  {
   "cell_type": "code",
   "execution_count": null,
   "metadata": {
    "vscode": {
     "languageId": "python"
    }
   },
   "outputs": [],
   "source": [
    "%cd yolov5"
   ]
  },
  {
   "cell_type": "code",
   "execution_count": null,
   "metadata": {
    "vscode": {
     "languageId": "python"
    }
   },
   "outputs": [],
   "source": [
    "!pip install -r requirements.txt"
   ]
  },
  {
   "cell_type": "code",
   "execution_count": null,
   "metadata": {
    "vscode": {
     "languageId": "python"
    }
   },
   "outputs": [],
   "source": [
    "# training\n",
    "!python train.py --data ../trash.yaml --weights yolov5x6.pt --img 1024 --batch-size 16 --epoch 50"
   ]
  },
  {
   "cell_type": "code",
   "execution_count": null,
   "metadata": {
    "vscode": {
     "languageId": "python"
    }
   },
   "outputs": [],
   "source": [
    "# test mode\n",
    "!python val.py --data ../trash.yaml --img 1024 --save-txt --save-conf --weights ./runs/train/exp10/weights/best.pt --task test --augment"
   ]
  },
  {
   "cell_type": "code",
   "execution_count": null,
   "metadata": {
    "vscode": {
     "languageId": "python"
    }
   },
   "outputs": [],
   "source": []
  }
 ],
 "metadata": {
  "kernelspec": {
   "display_name": "detection",
   "language": "python",
   "name": "detection"
  },
  "orig_nbformat": 4
 },
 "nbformat": 4,
 "nbformat_minor": 2
}
