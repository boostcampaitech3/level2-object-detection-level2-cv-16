{
 "cells": [
  {
   "cell_type": "code",
   "execution_count": 1,
   "metadata": {},
   "outputs": [],
   "source": [
    "import os\n",
    "import glob\n",
    "import json\n",
    "import pandas as pd"
   ]
  },
  {
   "cell_type": "code",
   "execution_count": 2,
   "metadata": {},
   "outputs": [],
   "source": [
    "submission = pd.DataFrame()\n",
    "image_id = []\n",
    "prediction_string = []"
   ]
  },
  {
   "cell_type": "code",
   "execution_count": 3,
   "metadata": {},
   "outputs": [],
   "source": [
    "path = './yolov5/runs/val/exp2/labels'\n",
    "for filename in sorted(glob.glob(os.path.join(path, '*.txt'))):\n",
    "   with open(os.path.join(os.getcwd(), filename), 'r') as f:\n",
    "      file_names = os.path.basename(filename).rstrip('.txt')\n",
    "      file_names = 'test/' + file_names + '.jpg'\n",
    "      image_id.append(file_names)\n",
    "\n",
    "      pred_strings = ''\n",
    "      for p in f.readlines():\n",
    "         pred_strings += ' ' + p.rstrip('\\n')\n",
    "      prediction_string.append(pred_strings.lstrip(' '))\n"
   ]
  },
  {
   "cell_type": "code",
   "execution_count": 4,
   "metadata": {},
   "outputs": [],
   "source": [
    "submission['image_id'] = image_id\n",
    "submission['PredictionString'] = prediction_string"
   ]
  },
  {
   "cell_type": "code",
   "execution_count": null,
   "metadata": {},
   "outputs": [],
   "source": [
    "submission"
   ]
  },
  {
   "cell_type": "code",
   "execution_count": 7,
   "metadata": {},
   "outputs": [],
   "source": [
    "submission.to_csv('submission_yolov5_exp2.csv', index=None)"
   ]
  },
  {
   "cell_type": "code",
   "execution_count": null,
   "metadata": {},
   "outputs": [],
   "source": []
  }
 ],
 "metadata": {
  "kernelspec": {
   "display_name": "detection",
   "language": "python",
   "name": "detection"
  },
  "orig_nbformat": 4
 },
 "nbformat": 4,
 "nbformat_minor": 2
}
