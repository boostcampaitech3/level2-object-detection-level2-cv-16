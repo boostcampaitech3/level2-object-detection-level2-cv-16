{
 "cells": [
  {
   "cell_type": "code",
   "execution_count": 49,
   "metadata": {
    "id": "itZp2VMMfWOG",
    "outputId": "5f31efdd-d9a7-4b36-a4f0-52f392878ce0"
   },
   "outputs": [],
   "source": [
    "#!pip install ensemble_boxes"
   ]
  },
  {
   "cell_type": "code",
   "execution_count": 50,
   "metadata": {
    "id": "6o_o7r-6fWOI"
   },
   "outputs": [],
   "source": [
    "import pandas as pd\n",
    "from ensemble_boxes import *\n",
    "import numpy as np\n",
    "from pycocotools.coco import COCO"
   ]
  },
  {
   "cell_type": "code",
   "execution_count": 51,
   "metadata": {
    "id": "M1MB_2YXfWOI"
   },
   "outputs": [],
   "source": [
    "# ensemble csv files\n",
    "submission_files = [\n",
    "    '/opt/ml/level2-object-detection-level2-cv-16/sample_submission/swin-t-l_1024.csv',\n",
    "    '/opt/ml/level2-object-detection-level2-cv-16/sample_submission/swin-t-l_dyhead.csv',\n",
    "    '/opt/ml/level2-object-detection-level2-cv-16/sample_submission/yolov5.csv',\n",
    "    '/opt/ml/level2-object-detection-level2-cv-16/sample_submission/universenet.csv',\n",
    "    '/opt/ml/level2-object-detection-level2-cv-16/sample_submission/yolox.csv'\n",
    "] # submission lists\n",
    "submission_df = [pd.read_csv(file) for file in submission_files]"
   ]
  },
  {
   "cell_type": "code",
   "execution_count": 52,
   "metadata": {
    "id": "v81Y2t9pfWOJ"
   },
   "outputs": [],
   "source": [
    "image_ids = submission_df[0]['image_id'].tolist()"
   ]
  },
  {
   "cell_type": "code",
   "execution_count": 53,
   "metadata": {
    "id": "E1G3QkxOfWOJ",
    "outputId": "d6b814cb-4713-4c04-bcbb-75220ada8e3f"
   },
   "outputs": [
    {
     "name": "stdout",
     "output_type": "stream",
     "text": [
      "loading annotations into memory...\n",
      "Done (t=0.01s)\n",
      "creating index...\n",
      "index created!\n"
     ]
    }
   ],
   "source": [
    "# ensemble 할 file의 image 정보를 불러오기 위한 json\n",
    "annotation = '/opt/ml/dataset/test.json'\n",
    "coco = COCO(annotation)"
   ]
  },
  {
   "cell_type": "code",
   "execution_count": 54,
   "metadata": {
    "id": "apQk25cifWOJ",
    "tags": []
   },
   "outputs": [
    {
     "name": "stderr",
     "output_type": "stream",
     "text": [
      "/opt/conda/envs/detection/lib/python3.7/site-packages/ensemble_boxes/ensemble_boxes_wbf.py:76: UserWarning: Y1 < 0 in box. Set it to 0.\n",
      "  warnings.warn('Y1 < 0 in box. Set it to 0.')\n",
      "/opt/conda/envs/detection/lib/python3.7/site-packages/ensemble_boxes/ensemble_boxes_wbf.py:73: UserWarning: X2 > 1 in box. Set it to 1. Check that you normalize boxes in [0, 1] range.\n",
      "  warnings.warn('X2 > 1 in box. Set it to 1. Check that you normalize boxes in [0, 1] range.')\n",
      "/opt/conda/envs/detection/lib/python3.7/site-packages/ensemble_boxes/ensemble_boxes_wbf.py:64: UserWarning: X1 < 0 in box. Set it to 0.\n",
      "  warnings.warn('X1 < 0 in box. Set it to 0.')\n",
      "/opt/conda/envs/detection/lib/python3.7/site-packages/ensemble_boxes/ensemble_boxes_wbf.py:85: UserWarning: Y2 > 1 in box. Set it to 1. Check that you normalize boxes in [0, 1] range.\n",
      "  warnings.warn('Y2 > 1 in box. Set it to 1. Check that you normalize boxes in [0, 1] range.')\n",
      "/opt/conda/envs/detection/lib/python3.7/site-packages/ensemble_boxes/ensemble_boxes_wbf.py:88: UserWarning: Zero area box skipped: [0.0, 1.0, 1.0, 1.0].\n",
      "  warnings.warn(\"Zero area box skipped: {}.\".format(box_part))\n",
      "/opt/conda/envs/detection/lib/python3.7/site-packages/ensemble_boxes/ensemble_boxes_wbf.py:88: UserWarning: Zero area box skipped: [1.0, 0.552244140625, 1.0, 0.994306640625].\n",
      "  warnings.warn(\"Zero area box skipped: {}.\".format(box_part))\n",
      "/opt/conda/envs/detection/lib/python3.7/site-packages/ensemble_boxes/ensemble_boxes_wbf.py:88: UserWarning: Zero area box skipped: [1.0, 0.184478515625, 1.0, 0.546912109375].\n",
      "  warnings.warn(\"Zero area box skipped: {}.\".format(box_part))\n",
      "/opt/conda/envs/detection/lib/python3.7/site-packages/ensemble_boxes/ensemble_boxes_wbf.py:88: UserWarning: Zero area box skipped: [1.0, 0.5840400390625, 1.0, 1.0].\n",
      "  warnings.warn(\"Zero area box skipped: {}.\".format(box_part))\n",
      "/opt/conda/envs/detection/lib/python3.7/site-packages/ensemble_boxes/ensemble_boxes_wbf.py:88: UserWarning: Zero area box skipped: [1.0, 0.36195703125, 1.0, 1.0].\n",
      "  warnings.warn(\"Zero area box skipped: {}.\".format(box_part))\n",
      "/opt/conda/envs/detection/lib/python3.7/site-packages/ensemble_boxes/ensemble_boxes_wbf.py:88: UserWarning: Zero area box skipped: [0.0, 0.8936953125, 0.0, 1.0].\n",
      "  warnings.warn(\"Zero area box skipped: {}.\".format(box_part))\n",
      "/opt/conda/envs/detection/lib/python3.7/site-packages/ensemble_boxes/ensemble_boxes_wbf.py:88: UserWarning: Zero area box skipped: [0.0, 0.902888671875, 0.0, 1.0].\n",
      "  warnings.warn(\"Zero area box skipped: {}.\".format(box_part))\n",
      "/opt/conda/envs/detection/lib/python3.7/site-packages/ensemble_boxes/ensemble_boxes_wbf.py:88: UserWarning: Zero area box skipped: [0.0, 0.9089990234375, 0.0, 1.0].\n",
      "  warnings.warn(\"Zero area box skipped: {}.\".format(box_part))\n",
      "/opt/conda/envs/detection/lib/python3.7/site-packages/ensemble_boxes/ensemble_boxes_wbf.py:88: UserWarning: Zero area box skipped: [1.0, 0.572828125, 1.0, 0.923849609375].\n",
      "  warnings.warn(\"Zero area box skipped: {}.\".format(box_part))\n",
      "/opt/conda/envs/detection/lib/python3.7/site-packages/ensemble_boxes/ensemble_boxes_wbf.py:88: UserWarning: Zero area box skipped: [1.0, 0.0, 1.0, 0.6798994140625].\n",
      "  warnings.warn(\"Zero area box skipped: {}.\".format(box_part))\n",
      "/opt/conda/envs/detection/lib/python3.7/site-packages/ensemble_boxes/ensemble_boxes_wbf.py:88: UserWarning: Zero area box skipped: [0.0, 0.8775048828125, 0.0, 1.0].\n",
      "  warnings.warn(\"Zero area box skipped: {}.\".format(box_part))\n",
      "/opt/conda/envs/detection/lib/python3.7/site-packages/ensemble_boxes/ensemble_boxes_wbf.py:88: UserWarning: Zero area box skipped: [0.01558505859375, 1.0, 1.0, 1.0].\n",
      "  warnings.warn(\"Zero area box skipped: {}.\".format(box_part))\n",
      "/opt/conda/envs/detection/lib/python3.7/site-packages/ensemble_boxes/ensemble_boxes_wbf.py:88: UserWarning: Zero area box skipped: [1.0, 0.336296875, 1.0, 0.6160078125].\n",
      "  warnings.warn(\"Zero area box skipped: {}.\".format(box_part))\n"
     ]
    },
    {
     "name": "stdout",
     "output_type": "stream",
     "text": [
      "Warning: incorrect number of weights 5. Must be: 4. Set weights equal to 1.\n"
     ]
    },
    {
     "name": "stderr",
     "output_type": "stream",
     "text": [
      "/opt/conda/envs/detection/lib/python3.7/site-packages/ensemble_boxes/ensemble_boxes_wbf.py:88: UserWarning: Zero area box skipped: [0.0, 0.0, 0.0, 0.8058671875].\n",
      "  warnings.warn(\"Zero area box skipped: {}.\".format(box_part))\n",
      "/opt/conda/envs/detection/lib/python3.7/site-packages/ensemble_boxes/ensemble_boxes_wbf.py:88: UserWarning: Zero area box skipped: [0.0, 0.8644580078125, 0.0, 1.0].\n",
      "  warnings.warn(\"Zero area box skipped: {}.\".format(box_part))\n",
      "/opt/conda/envs/detection/lib/python3.7/site-packages/ensemble_boxes/ensemble_boxes_wbf.py:88: UserWarning: Zero area box skipped: [1.0, 0.609462890625, 1.0, 1.0].\n",
      "  warnings.warn(\"Zero area box skipped: {}.\".format(box_part))\n",
      "/opt/conda/envs/detection/lib/python3.7/site-packages/ensemble_boxes/ensemble_boxes_wbf.py:88: UserWarning: Zero area box skipped: [0.0, 0.874310546875, 0.0, 1.0].\n",
      "  warnings.warn(\"Zero area box skipped: {}.\".format(box_part))\n",
      "/opt/conda/envs/detection/lib/python3.7/site-packages/ensemble_boxes/ensemble_boxes_wbf.py:88: UserWarning: Zero area box skipped: [0.0, 0.8667236328125, 0.0, 1.0].\n",
      "  warnings.warn(\"Zero area box skipped: {}.\".format(box_part))\n",
      "/opt/conda/envs/detection/lib/python3.7/site-packages/ensemble_boxes/ensemble_boxes_wbf.py:88: UserWarning: Zero area box skipped: [0.0, 0.9012333984375, 0.0, 1.0].\n",
      "  warnings.warn(\"Zero area box skipped: {}.\".format(box_part))\n",
      "/opt/conda/envs/detection/lib/python3.7/site-packages/ensemble_boxes/ensemble_boxes_wbf.py:88: UserWarning: Zero area box skipped: [0.8717197265625, 0.0, 0.9966015625, 0.0].\n",
      "  warnings.warn(\"Zero area box skipped: {}.\".format(box_part))\n",
      "/opt/conda/envs/detection/lib/python3.7/site-packages/ensemble_boxes/ensemble_boxes_wbf.py:88: UserWarning: Zero area box skipped: [0.0, 0.858451171875, 0.0, 1.0].\n",
      "  warnings.warn(\"Zero area box skipped: {}.\".format(box_part))\n",
      "/opt/conda/envs/detection/lib/python3.7/site-packages/ensemble_boxes/ensemble_boxes_wbf.py:88: UserWarning: Zero area box skipped: [0.0, 0.8626572265625, 0.0, 1.0].\n",
      "  warnings.warn(\"Zero area box skipped: {}.\".format(box_part))\n",
      "/opt/conda/envs/detection/lib/python3.7/site-packages/ensemble_boxes/ensemble_boxes_wbf.py:88: UserWarning: Zero area box skipped: [0.017555078125, 1.0, 0.847724609375, 1.0].\n",
      "  warnings.warn(\"Zero area box skipped: {}.\".format(box_part))\n",
      "/opt/conda/envs/detection/lib/python3.7/site-packages/ensemble_boxes/ensemble_boxes_wbf.py:88: UserWarning: Zero area box skipped: [0.2744892578125, 0.0, 0.6105986328125, 0.0].\n",
      "  warnings.warn(\"Zero area box skipped: {}.\".format(box_part))\n",
      "/opt/conda/envs/detection/lib/python3.7/site-packages/ensemble_boxes/ensemble_boxes_wbf.py:88: UserWarning: Zero area box skipped: [0.04973916015625, 1.0, 0.945796875, 1.0].\n",
      "  warnings.warn(\"Zero area box skipped: {}.\".format(box_part))\n",
      "/opt/conda/envs/detection/lib/python3.7/site-packages/ensemble_boxes/ensemble_boxes_wbf.py:88: UserWarning: Zero area box skipped: [0.0, 0.89347265625, 0.0, 1.0].\n",
      "  warnings.warn(\"Zero area box skipped: {}.\".format(box_part))\n",
      "/opt/conda/envs/detection/lib/python3.7/site-packages/ensemble_boxes/ensemble_boxes_wbf.py:88: UserWarning: Zero area box skipped: [0.0296462890625, 1.0, 0.2488466796875, 1.0].\n",
      "  warnings.warn(\"Zero area box skipped: {}.\".format(box_part))\n",
      "/opt/conda/envs/detection/lib/python3.7/site-packages/ensemble_boxes/ensemble_boxes_wbf.py:88: UserWarning: Zero area box skipped: [0.0, 1.0, 0.740283203125, 1.0].\n",
      "  warnings.warn(\"Zero area box skipped: {}.\".format(box_part))\n",
      "/opt/conda/envs/detection/lib/python3.7/site-packages/ensemble_boxes/ensemble_boxes_wbf.py:88: UserWarning: Zero area box skipped: [0.0, 0.857384765625, 0.0, 0.9985546875].\n",
      "  warnings.warn(\"Zero area box skipped: {}.\".format(box_part))\n",
      "/opt/conda/envs/detection/lib/python3.7/site-packages/ensemble_boxes/ensemble_boxes_wbf.py:88: UserWarning: Zero area box skipped: [1.0, 0.715619140625, 1.0, 1.0].\n",
      "  warnings.warn(\"Zero area box skipped: {}.\".format(box_part))\n",
      "/opt/conda/envs/detection/lib/python3.7/site-packages/ensemble_boxes/ensemble_boxes_wbf.py:88: UserWarning: Zero area box skipped: [0.0, 0.879984375, 0.0, 1.0].\n",
      "  warnings.warn(\"Zero area box skipped: {}.\".format(box_part))\n"
     ]
    },
    {
     "name": "stdout",
     "output_type": "stream",
     "text": [
      "Warning: incorrect number of weights 5. Must be: 4. Set weights equal to 1.\n"
     ]
    },
    {
     "name": "stderr",
     "output_type": "stream",
     "text": [
      "/opt/conda/envs/detection/lib/python3.7/site-packages/ensemble_boxes/ensemble_boxes_wbf.py:88: UserWarning: Zero area box skipped: [0.0, 0.847423828125, 0.0, 1.0].\n",
      "  warnings.warn(\"Zero area box skipped: {}.\".format(box_part))\n",
      "/opt/conda/envs/detection/lib/python3.7/site-packages/ensemble_boxes/ensemble_boxes_wbf.py:88: UserWarning: Zero area box skipped: [0.0, 0.8829423828125, 0.0, 1.0].\n",
      "  warnings.warn(\"Zero area box skipped: {}.\".format(box_part))\n",
      "/opt/conda/envs/detection/lib/python3.7/site-packages/ensemble_boxes/ensemble_boxes_wbf.py:88: UserWarning: Zero area box skipped: [0.0, 0.829515625, 0.0, 1.0].\n",
      "  warnings.warn(\"Zero area box skipped: {}.\".format(box_part))\n",
      "/opt/conda/envs/detection/lib/python3.7/site-packages/ensemble_boxes/ensemble_boxes_wbf.py:88: UserWarning: Zero area box skipped: [0.0, 0.0, 0.0, 0.9341015625].\n",
      "  warnings.warn(\"Zero area box skipped: {}.\".format(box_part))\n",
      "/opt/conda/envs/detection/lib/python3.7/site-packages/ensemble_boxes/ensemble_boxes_wbf.py:88: UserWarning: Zero area box skipped: [0.0, 0.85645703125, 0.0, 1.0].\n",
      "  warnings.warn(\"Zero area box skipped: {}.\".format(box_part))\n",
      "/opt/conda/envs/detection/lib/python3.7/site-packages/ensemble_boxes/ensemble_boxes_wbf.py:88: UserWarning: Zero area box skipped: [1.0, 0.8552734375, 1.0, 1.0].\n",
      "  warnings.warn(\"Zero area box skipped: {}.\".format(box_part))\n",
      "/opt/conda/envs/detection/lib/python3.7/site-packages/ensemble_boxes/ensemble_boxes_wbf.py:88: UserWarning: Zero area box skipped: [0.0, 0.7429912109375, 0.0, 0.88427734375].\n",
      "  warnings.warn(\"Zero area box skipped: {}.\".format(box_part))\n",
      "/opt/conda/envs/detection/lib/python3.7/site-packages/ensemble_boxes/ensemble_boxes_wbf.py:88: UserWarning: Zero area box skipped: [0.0, 0.85639453125, 0.0, 1.0].\n",
      "  warnings.warn(\"Zero area box skipped: {}.\".format(box_part))\n",
      "/opt/conda/envs/detection/lib/python3.7/site-packages/ensemble_boxes/ensemble_boxes_wbf.py:88: UserWarning: Zero area box skipped: [0.0, 0.8702509765625, 0.0, 1.0].\n",
      "  warnings.warn(\"Zero area box skipped: {}.\".format(box_part))\n",
      "/opt/conda/envs/detection/lib/python3.7/site-packages/ensemble_boxes/ensemble_boxes_wbf.py:88: UserWarning: Zero area box skipped: [0.0, 0.0, 0.0, 0.6371171875].\n",
      "  warnings.warn(\"Zero area box skipped: {}.\".format(box_part))\n",
      "/opt/conda/envs/detection/lib/python3.7/site-packages/ensemble_boxes/ensemble_boxes_wbf.py:88: UserWarning: Zero area box skipped: [0.0, 0.897603515625, 0.0, 1.0].\n",
      "  warnings.warn(\"Zero area box skipped: {}.\".format(box_part))\n",
      "/opt/conda/envs/detection/lib/python3.7/site-packages/ensemble_boxes/ensemble_boxes_wbf.py:88: UserWarning: Zero area box skipped: [0.0, 0.4929755859375, 0.0, 0.935853515625].\n",
      "  warnings.warn(\"Zero area box skipped: {}.\".format(box_part))\n",
      "/opt/conda/envs/detection/lib/python3.7/site-packages/ensemble_boxes/ensemble_boxes_wbf.py:88: UserWarning: Zero area box skipped: [1.0, 0.00370892578125, 1.0, 0.3752880859375].\n",
      "  warnings.warn(\"Zero area box skipped: {}.\".format(box_part))\n",
      "/opt/conda/envs/detection/lib/python3.7/site-packages/ensemble_boxes/ensemble_boxes_wbf.py:88: UserWarning: Zero area box skipped: [1.0, 0.005811494140625, 1.0, 0.3693837890625].\n",
      "  warnings.warn(\"Zero area box skipped: {}.\".format(box_part))\n",
      "/opt/conda/envs/detection/lib/python3.7/site-packages/ensemble_boxes/ensemble_boxes_wbf.py:88: UserWarning: Zero area box skipped: [0.0, 0.0, 0.0, 0.6252216796875].\n",
      "  warnings.warn(\"Zero area box skipped: {}.\".format(box_part))\n",
      "/opt/conda/envs/detection/lib/python3.7/site-packages/ensemble_boxes/ensemble_boxes_wbf.py:88: UserWarning: Zero area box skipped: [0.0, 1.0, 0.925767578125, 1.0].\n",
      "  warnings.warn(\"Zero area box skipped: {}.\".format(box_part))\n",
      "/opt/conda/envs/detection/lib/python3.7/site-packages/ensemble_boxes/ensemble_boxes_wbf.py:88: UserWarning: Zero area box skipped: [0.0, 0.8257646484375, 0.0, 1.0].\n",
      "  warnings.warn(\"Zero area box skipped: {}.\".format(box_part))\n",
      "/opt/conda/envs/detection/lib/python3.7/site-packages/ensemble_boxes/ensemble_boxes_wbf.py:88: UserWarning: Zero area box skipped: [0.0, 0.02666396484375, 0.0, 0.159740234375].\n",
      "  warnings.warn(\"Zero area box skipped: {}.\".format(box_part))\n",
      "/opt/conda/envs/detection/lib/python3.7/site-packages/ensemble_boxes/ensemble_boxes_wbf.py:88: UserWarning: Zero area box skipped: [0.0, 0.869580078125, 0.0, 1.0].\n",
      "  warnings.warn(\"Zero area box skipped: {}.\".format(box_part))\n",
      "/opt/conda/envs/detection/lib/python3.7/site-packages/ensemble_boxes/ensemble_boxes_wbf.py:88: UserWarning: Zero area box skipped: [1.0, 0.754, 1.0, 0.9647373046875].\n",
      "  warnings.warn(\"Zero area box skipped: {}.\".format(box_part))\n",
      "/opt/conda/envs/detection/lib/python3.7/site-packages/ensemble_boxes/ensemble_boxes_wbf.py:88: UserWarning: Zero area box skipped: [0.0, 0.02635498046875, 0.0, 1.0].\n",
      "  warnings.warn(\"Zero area box skipped: {}.\".format(box_part))\n",
      "/opt/conda/envs/detection/lib/python3.7/site-packages/ensemble_boxes/ensemble_boxes_wbf.py:88: UserWarning: Zero area box skipped: [0.0, 0.864419921875, 0.0, 1.0].\n",
      "  warnings.warn(\"Zero area box skipped: {}.\".format(box_part))\n",
      "/opt/conda/envs/detection/lib/python3.7/site-packages/ensemble_boxes/ensemble_boxes_wbf.py:88: UserWarning: Zero area box skipped: [0.0, 1.0, 0.99744140625, 1.0].\n",
      "  warnings.warn(\"Zero area box skipped: {}.\".format(box_part))\n"
     ]
    }
   ],
   "source": [
    "prediction_strings = []\n",
    "file_names = []\n",
    "# ensemble 시 설정할 iou threshold 이 부분을 바꿔가며 대회 metric에 알맞게 적용해봐요!\n",
    "iou_thr = 0.4\n",
    "skip_box_thr = 0.0001\n",
    "weights = [0.6265, 0.4992, 0.5842, 0.4350, 0.4485]\n",
    "sigma = 0.1\n",
    "\n",
    "# 각 image id 별로 submission file에서 box좌표 추출\n",
    "for i, image_id in enumerate(image_ids):\n",
    "    prediction_string = ''\n",
    "    boxes_list = []\n",
    "    scores_list = []\n",
    "    labels_list = []\n",
    "    image_info = coco.loadImgs(i)[0]\n",
    "#     각 submission file 별로 prediction box좌표 불러오기\n",
    "    for df in submission_df:\n",
    "        predict_string = df[df['image_id'] == image_id]['PredictionString'].tolist()[0]\n",
    "        predict_list = str(predict_string).split()\n",
    "        \n",
    "        if len(predict_list)==0 or len(predict_list)==1:\n",
    "            continue\n",
    "            \n",
    "        predict_list = np.reshape(predict_list, (-1, 6))\n",
    "        box_list = []\n",
    "        \n",
    "        for box in predict_list[:, 2:6].tolist():\n",
    "            box[0] = float(box[0]) / image_info['width']\n",
    "            box[1] = float(box[1]) / image_info['height']\n",
    "            box[2] = float(box[2]) / image_info['width']\n",
    "            box[3] = float(box[3]) / image_info['height']\n",
    "            box_list.append(box)\n",
    "            \n",
    "        boxes_list.append(box_list)\n",
    "        scores_list.append(list(map(float, predict_list[:, 1].tolist())))\n",
    "        labels_list.append(list(map(int, predict_list[:, 0].tolist())))\n",
    "\n",
    "        # print(boxes_list[:5])\n",
    "      \n",
    "    # 예측 box가 있다면 이를 ensemble 수행\n",
    "    if len(boxes_list):\n",
    "        # boxes, scores, labels = weighted_boxes_fusion(boxes_list, scores_list, labels_list, iou_thr=iou_thr, skip_box_thr=skip_box_thr)\n",
    "        boxes, scores, labels = weighted_boxes_fusion(boxes_list, scores_list, labels_list, weights=weights, iou_thr=iou_thr, skip_box_thr=skip_box_thr)\n",
    "        for box, score, label in zip(boxes, scores, labels):\n",
    "            # prediction_string += str(label) + ' ' + str(score) + ' ' + str(box[0] * image_info['width']) + ' ' + str(box[1] * image_info['height']) + ' ' + str(box[2] * image_info['width']) + ' ' + str(box[3] * image_info['height']) + ' '\n",
    "            prediction_string += str(int(label)) + ' ' + str(score) + ' ' + str(box[0] * image_info['width']) + ' ' + str(box[1] * image_info['height']) + ' ' + str(box[2] * image_info['width']) + ' ' + str(box[3] * image_info['height']) + ' '\n",
    "    \n",
    "    prediction_strings.append(prediction_string)\n",
    "    file_names.append(image_id)"
   ]
  },
  {
   "cell_type": "code",
   "execution_count": 55,
   "metadata": {
    "id": "No2ESSFYfWOK",
    "outputId": "bb310fcc-1906-4408-a716-ce9a2269b4ee"
   },
   "outputs": [
    {
     "data": {
      "text/html": [
       "<div>\n",
       "<style scoped>\n",
       "    .dataframe tbody tr th:only-of-type {\n",
       "        vertical-align: middle;\n",
       "    }\n",
       "\n",
       "    .dataframe tbody tr th {\n",
       "        vertical-align: top;\n",
       "    }\n",
       "\n",
       "    .dataframe thead th {\n",
       "        text-align: right;\n",
       "    }\n",
       "</style>\n",
       "<table border=\"1\" class=\"dataframe\">\n",
       "  <thead>\n",
       "    <tr style=\"text-align: right;\">\n",
       "      <th></th>\n",
       "      <th>PredictionString</th>\n",
       "      <th>image_id</th>\n",
       "    </tr>\n",
       "  </thead>\n",
       "  <tbody>\n",
       "    <tr>\n",
       "      <th>0</th>\n",
       "      <td>7 0.9369266270359287 391.9505920410156 186.793...</td>\n",
       "      <td>test/0000.jpg</td>\n",
       "    </tr>\n",
       "    <tr>\n",
       "      <th>1</th>\n",
       "      <td>5 0.7395732901077406 132.7161102294922 0.19413...</td>\n",
       "      <td>test/0001.jpg</td>\n",
       "    </tr>\n",
       "    <tr>\n",
       "      <th>2</th>\n",
       "      <td>1 0.583296112375472 298.0648498535156 310.0496...</td>\n",
       "      <td>test/0002.jpg</td>\n",
       "    </tr>\n",
       "    <tr>\n",
       "      <th>3</th>\n",
       "      <td>9 0.5233601072368327 104.96698760986328 179.51...</td>\n",
       "      <td>test/0003.jpg</td>\n",
       "    </tr>\n",
       "    <tr>\n",
       "      <th>4</th>\n",
       "      <td>1 0.5692830796946702 199.1088409423828 252.381...</td>\n",
       "      <td>test/0004.jpg</td>\n",
       "    </tr>\n",
       "  </tbody>\n",
       "</table>\n",
       "</div>"
      ],
      "text/plain": [
       "                                    PredictionString       image_id\n",
       "0  7 0.9369266270359287 391.9505920410156 186.793...  test/0000.jpg\n",
       "1  5 0.7395732901077406 132.7161102294922 0.19413...  test/0001.jpg\n",
       "2  1 0.583296112375472 298.0648498535156 310.0496...  test/0002.jpg\n",
       "3  9 0.5233601072368327 104.96698760986328 179.51...  test/0003.jpg\n",
       "4  1 0.5692830796946702 199.1088409423828 252.381...  test/0004.jpg"
      ]
     },
     "execution_count": 55,
     "metadata": {},
     "output_type": "execute_result"
    }
   ],
   "source": [
    "submission = pd.DataFrame()\n",
    "submission['PredictionString'] = prediction_strings\n",
    "submission['image_id'] = file_names\n",
    "# submission.to_csv('/opt/ml/level2-object-detection-level2-cv-16/sample_submission/final_ensemble_no_weight.csv')\n",
    "submission.to_csv('/opt/ml/level2-object-detection-level2-cv-16/sample_submission/ensemble_wbf_with_weight.csv', index=False)\n",
    "submission.head()"
   ]
  },
  {
   "cell_type": "code",
   "execution_count": null,
   "metadata": {},
   "outputs": [],
   "source": []
  }
 ],
 "metadata": {
  "colab": {
   "name": "ensemble.ipynb의 사본",
   "provenance": [
    {
     "file_id": "1_keslH8XqegbChXbzlW1YRy38oouUcbo",
     "timestamp": 1649058364840
    }
   ]
  },
  "kernelspec": {
   "display_name": "Python 3 (ipykernel)",
   "language": "python",
   "name": "python3"
  },
  "language_info": {
   "codemirror_mode": {
    "name": "ipython",
    "version": 3
   },
   "file_extension": ".py",
   "mimetype": "text/x-python",
   "name": "python",
   "nbconvert_exporter": "python",
   "pygments_lexer": "ipython3",
   "version": "3.7.11"
  }
 },
 "nbformat": 4,
 "nbformat_minor": 4
}
