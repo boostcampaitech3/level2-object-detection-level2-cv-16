{
 "cells": [
  {
   "cell_type": "code",
   "execution_count": 1,
   "id": "1045abc7-126f-4552-af77-23407dd2fce9",
   "metadata": {},
   "outputs": [
    {
     "name": "stdout",
     "output_type": "stream",
     "text": [
      "Requirement already satisfied: ensemble_boxes in /opt/conda/envs/detection/lib/python3.7/site-packages (1.0.8)\n",
      "Requirement already satisfied: numba in /opt/conda/envs/detection/lib/python3.7/site-packages (from ensemble_boxes) (0.55.1)\n",
      "Requirement already satisfied: pandas in /opt/conda/envs/detection/lib/python3.7/site-packages (from ensemble_boxes) (1.3.5)\n",
      "Requirement already satisfied: numpy in /opt/conda/envs/detection/lib/python3.7/site-packages (from ensemble_boxes) (1.21.2)\n",
      "Requirement already satisfied: llvmlite<0.39,>=0.38.0rc1 in /opt/conda/envs/detection/lib/python3.7/site-packages (from numba->ensemble_boxes) (0.38.0)\n",
      "Requirement already satisfied: setuptools in /opt/conda/envs/detection/lib/python3.7/site-packages (from numba->ensemble_boxes) (58.0.4)\n",
      "Requirement already satisfied: pytz>=2017.3 in /opt/conda/envs/detection/lib/python3.7/site-packages (from pandas->ensemble_boxes) (2021.3)\n",
      "Requirement already satisfied: python-dateutil>=2.7.3 in /opt/conda/envs/detection/lib/python3.7/site-packages (from pandas->ensemble_boxes) (2.8.2)\n",
      "Requirement already satisfied: six>=1.5 in /opt/conda/envs/detection/lib/python3.7/site-packages (from python-dateutil>=2.7.3->pandas->ensemble_boxes) (1.16.0)\n",
      "\u001b[33mWARNING: Running pip as the 'root' user can result in broken permissions and conflicting behaviour with the system package manager. It is recommended to use a virtual environment instead: https://pip.pypa.io/warnings/venv\u001b[0m\n"
     ]
    }
   ],
   "source": [
    "# !pip install ensemble_boxes"
   ]
  },
  {
   "cell_type": "code",
   "execution_count": 2,
   "id": "32fc09cb-e77c-4bfb-8a3c-7fb47b4cf9ca",
   "metadata": {},
   "outputs": [],
   "source": [
    "from ensemble_boxes import *"
   ]
  },
  {
   "cell_type": "code",
   "execution_count": 3,
   "id": "e8a5ee06-8bb9-4316-b1c8-faae019be94f",
   "metadata": {},
   "outputs": [],
   "source": [
    "boxes_list = [[\n",
    "    [0.00, 0.51, 0.81, 0.91],\n",
    "    [0.10, 0.31, 0.71, 0.61],\n",
    "    [0.01, 0.32, 0.83, 0.93],\n",
    "    [0.02, 0.53, 0.11, 0.94],\n",
    "    [0.03, 0.24, 0.12, 0.35],\n",
    "],[\n",
    "    [0.04, 0.56, 0.84, 0.92],\n",
    "    [0.12, 0.33, 0.72, 0.64],\n",
    "    [0.38, 0.66, 0.79, 0.95],\n",
    "    [0.08, 0.49, 0.21, 0.89],\n",
    "]]\n",
    "scores_list = [[0.9, 0.8, 0.2, 0.4, 0.7], [0.5, 0.8, 0.7, 0.3]]\n",
    "labels_list = [[0, 1, 0, 1, 1], [1, 1, 1, 0]]\n",
    "weights = [2, 1]\n",
    "\n",
    "iou_thr = 0.5\n",
    "skip_box_thr = 0.0001\n",
    "sigma = 0.1"
   ]
  },
  {
   "cell_type": "code",
   "execution_count": 4,
   "id": "e81cc3bb-49b2-4e01-8a9d-07ca732e3830",
   "metadata": {},
   "outputs": [],
   "source": [
    "boxes, scores, labels = weighted_boxes_fusion(boxes_list, scores_list, labels_list, weights=weights, iou_thr=iou_thr, skip_box_thr=skip_box_thr)"
   ]
  },
  {
   "cell_type": "code",
   "execution_count": 5,
   "id": "255feba6-9098-4e3e-ae9b-ba8efbba114b",
   "metadata": {},
   "outputs": [
    {
     "data": {
      "text/plain": [
       "(array([[0.10666665, 0.31666666, 0.71333331, 0.62      ],\n",
       "        [0.00181818, 0.47545454, 0.8136363 , 0.91363633],\n",
       "        [0.03      , 0.24      , 0.12      , 0.35      ],\n",
       "        [0.02      , 0.53      , 0.11      , 0.94      ],\n",
       "        [0.38      , 0.66      , 0.79      , 0.95      ],\n",
       "        [0.04      , 0.56      , 0.84      , 0.92      ],\n",
       "        [0.08      , 0.49      , 0.21      , 0.89      ]]),\n",
       " array([0.80000003, 0.73333335, 0.46666667, 0.26666667, 0.23333333,\n",
       "        0.16666667, 0.1       ]),\n",
       " array([1., 0., 1., 1., 1., 1., 0.]))"
      ]
     },
     "execution_count": 5,
     "metadata": {},
     "output_type": "execute_result"
    }
   ],
   "source": [
    "boxes, scores, labels"
   ]
  },
  {
   "cell_type": "code",
   "execution_count": null,
   "id": "cc13e786-8dca-4495-b235-a57428263b71",
   "metadata": {},
   "outputs": [],
   "source": []
  }
 ],
 "metadata": {
  "kernelspec": {
   "display_name": "Python 3 (ipykernel)",
   "language": "python",
   "name": "python3"
  },
  "language_info": {
   "codemirror_mode": {
    "name": "ipython",
    "version": 3
   },
   "file_extension": ".py",
   "mimetype": "text/x-python",
   "name": "python",
   "nbconvert_exporter": "python",
   "pygments_lexer": "ipython3",
   "version": "3.7.11"
  }
 },
 "nbformat": 4,
 "nbformat_minor": 5
}
