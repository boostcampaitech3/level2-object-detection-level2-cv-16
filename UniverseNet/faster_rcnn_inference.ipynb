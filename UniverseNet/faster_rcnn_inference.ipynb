{
 "cells": [
  {
   "cell_type": "code",
   "execution_count": 1,
   "id": "3fd75793",
   "metadata": {},
   "outputs": [],
   "source": [
    "import mmcv\n",
    "from mmcv import Config\n",
    "from mmdet.datasets import (build_dataloader, build_dataset,\n",
    "                            replace_ImageToTensor)\n",
    "from mmdet.models import build_detector\n",
    "from mmdet.apis import single_gpu_test\n",
    "from mmcv.runner import load_checkpoint\n",
    "import os\n",
    "from mmcv.parallel import MMDataParallel\n",
    "import pandas as pd\n",
    "from pandas import DataFrame\n",
    "from pycocotools.coco import COCO\n",
    "import numpy as np"
   ]
  },
  {
   "cell_type": "code",
   "execution_count": 2,
   "id": "edda58ea",
   "metadata": {},
   "outputs": [],
   "source": [
    "classes = (\"General trash\", \"Paper\", \"Paper pack\", \"Metal\", \"Glass\", \n",
    "           \"Plastic\", \"Styrofoam\", \"Plastic bag\", \"Battery\", \"Clothing\")\n",
    "\n",
    "# config file 들고오기\n",
    "cfg = Config.fromfile('/opt/ml/level2-object-detection-level2-cv-16/UniverseNet/configs/universenet/universenet101_2008d_fp16_4x4_mstrain_480_960_20e_trash_002.py')\n",
    "\n",
    "root='../../dataset/'\n",
    "\n",
    "epoch = 'epoch_20'\n",
    "\n",
    "# dataset config 수정\n",
    "cfg.data.test.classes = classes\n",
    "cfg.data.test.img_prefix = root\n",
    "cfg.data.test.ann_file = root + 'test.json'\n",
    "cfg.data.test.pipeline[1]['img_scale'] = (512,512) # Resize\n",
    "cfg.data.test.test_mode = True\n",
    "\n",
    "cfg.data.samples_per_gpu = 16\n",
    "\n",
    "cfg.seed=2021\n",
    "cfg.gpu_ids = [1]\n",
    "cfg.work_dir = './work_dirs/universenet101_2008d_fp16_4x4_mstrain_480_960_20e_\btrash_002'\n",
    "\n",
    "# cfg.model.roi_head.bbox_head.num_classes = 10\n",
    "\n",
    "cfg.optimizer_config.grad_clip = dict(max_norm=35, norm_type=2)\n",
    "cfg.model.train_cfg = None"
   ]
  },
  {
   "cell_type": "code",
   "execution_count": 3,
   "id": "b086a8cf",
   "metadata": {},
   "outputs": [
    {
     "name": "stdout",
     "output_type": "stream",
     "text": [
      "loading annotations into memory...\n",
      "Done (t=0.01s)\n",
      "creating index...\n",
      "index created!\n"
     ]
    }
   ],
   "source": [
    "# build dataset & dataloader\n",
    "dataset = build_dataset(cfg.data.test)\n",
    "data_loader = build_dataloader(\n",
    "        dataset,\n",
    "        samples_per_gpu=4,\n",
    "        workers_per_gpu=cfg.data.workers_per_gpu,\n",
    "        dist=False,\n",
    "        shuffle=False)"
   ]
  },
  {
   "cell_type": "code",
   "execution_count": 4,
   "id": "83b3eae6",
   "metadata": {},
   "outputs": [
    {
     "name": "stderr",
     "output_type": "stream",
     "text": [
      "/opt/ml/level2-object-detection-level2-cv-16/UniverseNet/mmdet/models/dense_heads/anchor_head.py:116: UserWarning: DeprecationWarning: `num_anchors` is deprecated, for consistency or also use `num_base_priors` instead\n",
      "  warnings.warn('DeprecationWarning: `num_anchors` is deprecated, '\n"
     ]
    },
    {
     "name": "stdout",
     "output_type": "stream",
     "text": [
      "load checkpoint from local path: ./work_dirs/universenet101_2008d_fp16_4x4_mstrain_480_960_20etrash_002/epoch_20.pth\n"
     ]
    },
    {
     "name": "stderr",
     "output_type": "stream",
     "text": [
      "2022-04-07 05:02:16,516 - root - INFO - DeformConv2dPack backbone.layer2.0.convs.0 is upgraded to version 2.\n",
      "2022-04-07 05:02:16,518 - root - INFO - DeformConv2dPack backbone.layer2.0.convs.1 is upgraded to version 2.\n",
      "2022-04-07 05:02:16,520 - root - INFO - DeformConv2dPack backbone.layer2.0.convs.2 is upgraded to version 2.\n",
      "2022-04-07 05:02:16,525 - root - INFO - DeformConv2dPack backbone.layer2.1.convs.0 is upgraded to version 2.\n",
      "2022-04-07 05:02:16,526 - root - INFO - DeformConv2dPack backbone.layer2.1.convs.1 is upgraded to version 2.\n",
      "2022-04-07 05:02:16,527 - root - INFO - DeformConv2dPack backbone.layer2.1.convs.2 is upgraded to version 2.\n",
      "2022-04-07 05:02:16,537 - root - INFO - DeformConv2dPack backbone.layer2.2.convs.0 is upgraded to version 2.\n",
      "2022-04-07 05:02:16,538 - root - INFO - DeformConv2dPack backbone.layer2.2.convs.1 is upgraded to version 2.\n",
      "2022-04-07 05:02:16,539 - root - INFO - DeformConv2dPack backbone.layer2.2.convs.2 is upgraded to version 2.\n",
      "2022-04-07 05:02:16,553 - root - INFO - DeformConv2dPack backbone.layer2.3.convs.0 is upgraded to version 2.\n",
      "2022-04-07 05:02:16,555 - root - INFO - DeformConv2dPack backbone.layer2.3.convs.1 is upgraded to version 2.\n",
      "2022-04-07 05:02:16,556 - root - INFO - DeformConv2dPack backbone.layer2.3.convs.2 is upgraded to version 2.\n",
      "2022-04-07 05:02:16,562 - root - INFO - DeformConv2dPack backbone.layer3.0.convs.0 is upgraded to version 2.\n",
      "2022-04-07 05:02:16,564 - root - INFO - DeformConv2dPack backbone.layer3.0.convs.1 is upgraded to version 2.\n",
      "2022-04-07 05:02:16,604 - root - INFO - DeformConv2dPack backbone.layer3.0.convs.2 is upgraded to version 2.\n",
      "2022-04-07 05:02:16,610 - root - INFO - DeformConv2dPack backbone.layer3.1.convs.0 is upgraded to version 2.\n",
      "2022-04-07 05:02:16,611 - root - INFO - DeformConv2dPack backbone.layer3.1.convs.1 is upgraded to version 2.\n",
      "2022-04-07 05:02:16,624 - root - INFO - DeformConv2dPack backbone.layer3.1.convs.2 is upgraded to version 2.\n",
      "2022-04-07 05:02:16,634 - root - INFO - DeformConv2dPack backbone.layer3.2.convs.0 is upgraded to version 2.\n",
      "2022-04-07 05:02:16,635 - root - INFO - DeformConv2dPack backbone.layer3.2.convs.1 is upgraded to version 2.\n",
      "2022-04-07 05:02:16,643 - root - INFO - DeformConv2dPack backbone.layer3.2.convs.2 is upgraded to version 2.\n",
      "2022-04-07 05:02:16,647 - root - INFO - DeformConv2dPack backbone.layer3.3.convs.0 is upgraded to version 2.\n",
      "2022-04-07 05:02:16,655 - root - INFO - DeformConv2dPack backbone.layer3.3.convs.1 is upgraded to version 2.\n",
      "2022-04-07 05:02:16,659 - root - INFO - DeformConv2dPack backbone.layer3.3.convs.2 is upgraded to version 2.\n",
      "2022-04-07 05:02:16,668 - root - INFO - DeformConv2dPack backbone.layer3.4.convs.0 is upgraded to version 2.\n",
      "2022-04-07 05:02:16,669 - root - INFO - DeformConv2dPack backbone.layer3.4.convs.1 is upgraded to version 2.\n",
      "2022-04-07 05:02:16,679 - root - INFO - DeformConv2dPack backbone.layer3.4.convs.2 is upgraded to version 2.\n",
      "2022-04-07 05:02:16,683 - root - INFO - DeformConv2dPack backbone.layer3.5.convs.0 is upgraded to version 2.\n",
      "2022-04-07 05:02:16,684 - root - INFO - DeformConv2dPack backbone.layer3.5.convs.1 is upgraded to version 2.\n",
      "2022-04-07 05:02:16,691 - root - INFO - DeformConv2dPack backbone.layer3.5.convs.2 is upgraded to version 2.\n",
      "2022-04-07 05:02:16,695 - root - INFO - DeformConv2dPack backbone.layer3.6.convs.0 is upgraded to version 2.\n",
      "2022-04-07 05:02:16,696 - root - INFO - DeformConv2dPack backbone.layer3.6.convs.1 is upgraded to version 2.\n",
      "2022-04-07 05:02:16,703 - root - INFO - DeformConv2dPack backbone.layer3.6.convs.2 is upgraded to version 2.\n",
      "2022-04-07 05:02:16,707 - root - INFO - DeformConv2dPack backbone.layer3.7.convs.0 is upgraded to version 2.\n",
      "2022-04-07 05:02:16,708 - root - INFO - DeformConv2dPack backbone.layer3.7.convs.1 is upgraded to version 2.\n",
      "2022-04-07 05:02:16,715 - root - INFO - DeformConv2dPack backbone.layer3.7.convs.2 is upgraded to version 2.\n",
      "2022-04-07 05:02:16,719 - root - INFO - DeformConv2dPack backbone.layer3.8.convs.0 is upgraded to version 2.\n",
      "2022-04-07 05:02:16,720 - root - INFO - DeformConv2dPack backbone.layer3.8.convs.1 is upgraded to version 2.\n",
      "2022-04-07 05:02:16,726 - root - INFO - DeformConv2dPack backbone.layer3.8.convs.2 is upgraded to version 2.\n",
      "2022-04-07 05:02:16,731 - root - INFO - DeformConv2dPack backbone.layer3.9.convs.0 is upgraded to version 2.\n",
      "2022-04-07 05:02:16,732 - root - INFO - DeformConv2dPack backbone.layer3.9.convs.1 is upgraded to version 2.\n",
      "2022-04-07 05:02:16,738 - root - INFO - DeformConv2dPack backbone.layer3.9.convs.2 is upgraded to version 2.\n",
      "2022-04-07 05:02:16,743 - root - INFO - DeformConv2dPack backbone.layer3.10.convs.0 is upgraded to version 2.\n",
      "2022-04-07 05:02:16,744 - root - INFO - DeformConv2dPack backbone.layer3.10.convs.1 is upgraded to version 2.\n",
      "2022-04-07 05:02:16,750 - root - INFO - DeformConv2dPack backbone.layer3.10.convs.2 is upgraded to version 2.\n",
      "2022-04-07 05:02:16,756 - root - INFO - DeformConv2dPack backbone.layer3.11.convs.0 is upgraded to version 2.\n",
      "2022-04-07 05:02:16,762 - root - INFO - DeformConv2dPack backbone.layer3.11.convs.1 is upgraded to version 2.\n",
      "2022-04-07 05:02:16,763 - root - INFO - DeformConv2dPack backbone.layer3.11.convs.2 is upgraded to version 2.\n",
      "2022-04-07 05:02:16,775 - root - INFO - DeformConv2dPack backbone.layer3.12.convs.0 is upgraded to version 2.\n",
      "2022-04-07 05:02:16,776 - root - INFO - DeformConv2dPack backbone.layer3.12.convs.1 is upgraded to version 2.\n",
      "2022-04-07 05:02:16,785 - root - INFO - DeformConv2dPack backbone.layer3.12.convs.2 is upgraded to version 2.\n",
      "2022-04-07 05:02:16,791 - root - INFO - DeformConv2dPack backbone.layer3.13.convs.0 is upgraded to version 2.\n",
      "2022-04-07 05:02:16,798 - root - INFO - DeformConv2dPack backbone.layer3.13.convs.1 is upgraded to version 2.\n",
      "2022-04-07 05:02:16,799 - root - INFO - DeformConv2dPack backbone.layer3.13.convs.2 is upgraded to version 2.\n",
      "2022-04-07 05:02:16,822 - root - INFO - DeformConv2dPack backbone.layer3.14.convs.0 is upgraded to version 2.\n",
      "2022-04-07 05:02:16,823 - root - INFO - DeformConv2dPack backbone.layer3.14.convs.1 is upgraded to version 2.\n",
      "2022-04-07 05:02:16,827 - root - INFO - DeformConv2dPack backbone.layer3.14.convs.2 is upgraded to version 2.\n",
      "2022-04-07 05:02:16,845 - root - INFO - DeformConv2dPack backbone.layer3.15.convs.0 is upgraded to version 2.\n",
      "2022-04-07 05:02:16,848 - root - INFO - DeformConv2dPack backbone.layer3.15.convs.1 is upgraded to version 2.\n",
      "2022-04-07 05:02:16,849 - root - INFO - DeformConv2dPack backbone.layer3.15.convs.2 is upgraded to version 2.\n",
      "2022-04-07 05:02:16,860 - root - INFO - DeformConv2dPack backbone.layer3.16.convs.0 is upgraded to version 2.\n",
      "2022-04-07 05:02:16,861 - root - INFO - DeformConv2dPack backbone.layer3.16.convs.1 is upgraded to version 2.\n",
      "2022-04-07 05:02:16,868 - root - INFO - DeformConv2dPack backbone.layer3.16.convs.2 is upgraded to version 2.\n",
      "2022-04-07 05:02:16,872 - root - INFO - DeformConv2dPack backbone.layer3.17.convs.0 is upgraded to version 2.\n",
      "2022-04-07 05:02:16,874 - root - INFO - DeformConv2dPack backbone.layer3.17.convs.1 is upgraded to version 2.\n",
      "2022-04-07 05:02:16,880 - root - INFO - DeformConv2dPack backbone.layer3.17.convs.2 is upgraded to version 2.\n",
      "2022-04-07 05:02:16,884 - root - INFO - DeformConv2dPack backbone.layer3.18.convs.0 is upgraded to version 2.\n",
      "2022-04-07 05:02:16,885 - root - INFO - DeformConv2dPack backbone.layer3.18.convs.1 is upgraded to version 2.\n",
      "2022-04-07 05:02:16,892 - root - INFO - DeformConv2dPack backbone.layer3.18.convs.2 is upgraded to version 2.\n",
      "2022-04-07 05:02:16,896 - root - INFO - DeformConv2dPack backbone.layer3.19.convs.0 is upgraded to version 2.\n",
      "2022-04-07 05:02:16,903 - root - INFO - DeformConv2dPack backbone.layer3.19.convs.1 is upgraded to version 2.\n",
      "2022-04-07 05:02:16,905 - root - INFO - DeformConv2dPack backbone.layer3.19.convs.2 is upgraded to version 2.\n",
      "2022-04-07 05:02:16,916 - root - INFO - DeformConv2dPack backbone.layer3.20.convs.0 is upgraded to version 2.\n",
      "2022-04-07 05:02:16,918 - root - INFO - DeformConv2dPack backbone.layer3.20.convs.1 is upgraded to version 2.\n",
      "2022-04-07 05:02:16,921 - root - INFO - DeformConv2dPack backbone.layer3.20.convs.2 is upgraded to version 2.\n",
      "2022-04-07 05:02:16,930 - root - INFO - DeformConv2dPack backbone.layer3.21.convs.0 is upgraded to version 2.\n",
      "2022-04-07 05:02:16,931 - root - INFO - DeformConv2dPack backbone.layer3.21.convs.1 is upgraded to version 2.\n",
      "2022-04-07 05:02:16,938 - root - INFO - DeformConv2dPack backbone.layer3.21.convs.2 is upgraded to version 2.\n",
      "2022-04-07 05:02:16,942 - root - INFO - DeformConv2dPack backbone.layer3.22.convs.0 is upgraded to version 2.\n",
      "2022-04-07 05:02:16,950 - root - INFO - DeformConv2dPack backbone.layer3.22.convs.1 is upgraded to version 2.\n",
      "2022-04-07 05:02:16,952 - root - INFO - DeformConv2dPack backbone.layer3.22.convs.2 is upgraded to version 2.\n",
      "2022-04-07 05:02:16,965 - root - INFO - DeformConv2dPack backbone.layer4.0.convs.0 is upgraded to version 2.\n",
      "2022-04-07 05:02:16,973 - root - INFO - DeformConv2dPack backbone.layer4.0.convs.1 is upgraded to version 2.\n",
      "2022-04-07 05:02:16,976 - root - INFO - DeformConv2dPack backbone.layer4.0.convs.2 is upgraded to version 2.\n",
      "2022-04-07 05:02:16,985 - root - INFO - DeformConv2dPack backbone.layer4.1.convs.0 is upgraded to version 2.\n",
      "2022-04-07 05:02:16,990 - root - INFO - DeformConv2dPack backbone.layer4.1.convs.1 is upgraded to version 2.\n",
      "2022-04-07 05:02:16,997 - root - INFO - DeformConv2dPack backbone.layer4.1.convs.2 is upgraded to version 2.\n",
      "2022-04-07 05:02:17,011 - root - INFO - DeformConv2dPack backbone.layer4.2.convs.0 is upgraded to version 2.\n",
      "2022-04-07 05:02:17,014 - root - INFO - DeformConv2dPack backbone.layer4.2.convs.1 is upgraded to version 2.\n",
      "2022-04-07 05:02:17,021 - root - INFO - DeformConv2dPack backbone.layer4.2.convs.2 is upgraded to version 2.\n"
     ]
    }
   ],
   "source": [
    "# checkpoint path\n",
    "checkpoint_path = os.path.join(cfg.work_dir, f'{epoch}.pth')\n",
    "\n",
    "model = build_detector(cfg.model, test_cfg=cfg.get('test_cfg')) # build detector\n",
    "checkpoint = load_checkpoint(model, checkpoint_path, map_location='cpu') # ckpt load\n",
    "\n",
    "model.CLASSES = dataset.CLASSES\n",
    "model = MMDataParallel(model.cuda(), device_ids=[0])"
   ]
  },
  {
   "cell_type": "code",
   "execution_count": 5,
   "id": "c9f5c2bb",
   "metadata": {},
   "outputs": [
    {
     "name": "stdout",
     "output_type": "stream",
     "text": [
      "[>>>>>>>>>>>>>>>>>>>>>>>>>>] 4871/4871, 24.0 task/s, elapsed: 203s, ETA:     0s"
     ]
    }
   ],
   "source": [
    "output = single_gpu_test(model, data_loader, show_score_thr=0.05) # output 계산"
   ]
  },
  {
   "cell_type": "code",
   "execution_count": 6,
   "id": "5672a0ff",
   "metadata": {},
   "outputs": [
    {
     "name": "stdout",
     "output_type": "stream",
     "text": [
      "loading annotations into memory...\n",
      "Done (t=0.01s)\n",
      "creating index...\n",
      "index created!\n"
     ]
    },
    {
     "data": {
      "text/html": [
       "<div>\n",
       "<style scoped>\n",
       "    .dataframe tbody tr th:only-of-type {\n",
       "        vertical-align: middle;\n",
       "    }\n",
       "\n",
       "    .dataframe tbody tr th {\n",
       "        vertical-align: top;\n",
       "    }\n",
       "\n",
       "    .dataframe thead th {\n",
       "        text-align: right;\n",
       "    }\n",
       "</style>\n",
       "<table border=\"1\" class=\"dataframe\">\n",
       "  <thead>\n",
       "    <tr style=\"text-align: right;\">\n",
       "      <th></th>\n",
       "      <th>PredictionString</th>\n",
       "      <th>image_id</th>\n",
       "    </tr>\n",
       "  </thead>\n",
       "  <tbody>\n",
       "    <tr>\n",
       "      <th>0</th>\n",
       "      <td>0 0.37898162 225.93513 680.3362 317.29428 743....</td>\n",
       "      <td>test/0000.jpg</td>\n",
       "    </tr>\n",
       "    <tr>\n",
       "      <th>1</th>\n",
       "      <td>0 0.38596642 131.43404 0.0 503.0035 285.0421 0...</td>\n",
       "      <td>test/0001.jpg</td>\n",
       "    </tr>\n",
       "    <tr>\n",
       "      <th>2</th>\n",
       "      <td>0 0.72121966 84.64732 268.99 419.4911 611.7628...</td>\n",
       "      <td>test/0002.jpg</td>\n",
       "    </tr>\n",
       "    <tr>\n",
       "      <th>3</th>\n",
       "      <td>0 0.21999255 29.454163 23.364899 1020.54443 10...</td>\n",
       "      <td>test/0003.jpg</td>\n",
       "    </tr>\n",
       "    <tr>\n",
       "      <th>4</th>\n",
       "      <td>0 0.5132388 410.29565 409.31332 666.23267 579....</td>\n",
       "      <td>test/0004.jpg</td>\n",
       "    </tr>\n",
       "  </tbody>\n",
       "</table>\n",
       "</div>"
      ],
      "text/plain": [
       "                                    PredictionString       image_id\n",
       "0  0 0.37898162 225.93513 680.3362 317.29428 743....  test/0000.jpg\n",
       "1  0 0.38596642 131.43404 0.0 503.0035 285.0421 0...  test/0001.jpg\n",
       "2  0 0.72121966 84.64732 268.99 419.4911 611.7628...  test/0002.jpg\n",
       "3  0 0.21999255 29.454163 23.364899 1020.54443 10...  test/0003.jpg\n",
       "4  0 0.5132388 410.29565 409.31332 666.23267 579....  test/0004.jpg"
      ]
     },
     "execution_count": 6,
     "metadata": {},
     "output_type": "execute_result"
    }
   ],
   "source": [
    "# submission 양식에 맞게 output 후처리\n",
    "prediction_strings = []\n",
    "file_names = []\n",
    "coco = COCO(cfg.data.test.ann_file)\n",
    "img_ids = coco.getImgIds()\n",
    "\n",
    "class_num = 10\n",
    "for i, out in enumerate(output):\n",
    "    prediction_string = ''\n",
    "    image_info = coco.loadImgs(coco.getImgIds(imgIds=i))[0]\n",
    "    for j in range(class_num):\n",
    "        for o in out[j]:\n",
    "            prediction_string += str(j) + ' ' + str(o[4]) + ' ' + str(o[0]) + ' ' + str(o[1]) + ' ' + str(\n",
    "                o[2]) + ' ' + str(o[3]) + ' '\n",
    "        \n",
    "    prediction_strings.append(prediction_string)\n",
    "    file_names.append(image_info['file_name'])\n",
    "\n",
    "\n",
    "submission = pd.DataFrame()\n",
    "submission['PredictionString'] = prediction_strings\n",
    "submission['image_id'] = file_names\n",
    "submission.to_csv(os.path.join(cfg.work_dir, f'submission_{epoch}.csv'), index=None)\n",
    "submission.head()"
   ]
  },
  {
   "cell_type": "code",
   "execution_count": null,
   "id": "6b4bf1f7-4426-4531-bc45-0029e83f5f56",
   "metadata": {},
   "outputs": [],
   "source": []
  }
 ],
 "metadata": {
  "kernelspec": {
   "display_name": "Python 3 (ipykernel)",
   "language": "python",
   "name": "python3"
  },
  "language_info": {
   "codemirror_mode": {
    "name": "ipython",
    "version": 3
   },
   "file_extension": ".py",
   "mimetype": "text/x-python",
   "name": "python",
   "nbconvert_exporter": "python",
   "pygments_lexer": "ipython3",
   "version": "3.7.11"
  }
 },
 "nbformat": 4,
 "nbformat_minor": 5
}
